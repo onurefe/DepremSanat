{
 "cells": [
  {
   "cell_type": "code",
   "execution_count": 1,
   "metadata": {
    "id": "OlDn8ysA90_0"
   },
   "outputs": [],
   "source": [
    "from obspy.clients.fdsn import Client\n",
    "from obspy import UTCDateTime\n",
    "from obspy import signal as sg\n",
    "import obspy"
   ]
  },
  {
   "cell_type": "markdown",
   "metadata": {},
   "source": [
    "# Adjustable parameters are here."
   ]
  },
  {
   "cell_type": "code",
   "execution_count": 2,
   "metadata": {
    "id": "mssKe6HZESAB"
   },
   "outputs": [],
   "source": [
    "r_earth = 6371e6\n",
    "obs_radius = 2.0\n",
    "obs_min_magnitude = 2.5\n",
    "obs_station = \"CTKS\"\n",
    "obs_evt_wdw_start = -30\n",
    "obs_evt_wdw_end = 330\n",
    "obs_components = [\"N\"]\n",
    "station_sampling_freq = 100.0\n",
    "station_a_lat_diff = 0.21\n",
    "station_a_long_diff = -0.21\n",
    "station_b_lat_diff = 0.21\n",
    "station_b_long_diff = 0.0\n",
    "station_c_lat_diff = 0.21\n",
    "station_c_long_diff = 0.21\n",
    "station_d_lat_diff = -0.21\n",
    "station_d_long_diff = 0.21\n",
    "station_e_lat_diff = -0.21\n",
    "station_e_long_diff = 0.0\n",
    "station_f_lat_diff = -0.21\n",
    "station_f_long_diff = -0.21\n",
    "exhibition_duration_in_secs = 1800\n",
    "audio_saturation_coeff = 25.0\n",
    "audio_noise_coeff = 2.0\n",
    "lighting_saturation_coeff = 50.0\n",
    "lighting_noise_coeff = 3.0\n",
    "vibration_saturation_coeff = 3.0\n",
    "vibration_on_threshold = 0.75\n",
    "obs_start_time = UTCDateTime(\"2020-01-01T00:00:00.000\")\n",
    "obs_end_time = UTCDateTime(\"2020-12-31T23:59:59.900\")\n",
    "obs_noise_start_time = UTCDateTime(\"2020-06-01T00:00:00.000\")"
   ]
  },
  {
   "cell_type": "markdown",
   "metadata": {},
   "source": [
    "# This parameters should be kept as is!"
   ]
  },
  {
   "cell_type": "code",
   "execution_count": 3,
   "metadata": {},
   "outputs": [],
   "source": [
    "output_sampling_freq = 4096\n",
    "lighting_sampling_freq = 64\n",
    "audio_sampling_freq = output_sampling_freq"
   ]
  },
  {
   "cell_type": "markdown",
   "metadata": {},
   "source": [
    "### Get station data from the local memory."
   ]
  },
  {
   "cell_type": "code",
   "execution_count": 4,
   "metadata": {
    "id": "X-nehffSnbe9"
   },
   "outputs": [],
   "source": [
    "from obspy import read_inventory\n",
    "\n",
    "station = Client(\"KOERI\").get_stations(station=obs_station)\n",
    "inv = read_inventory(\"./station_ctks.xml\")"
   ]
  },
  {
   "cell_type": "markdown",
   "metadata": {},
   "source": [
    "### Get event catalog."
   ]
  },
  {
   "cell_type": "code",
   "execution_count": 5,
   "metadata": {
    "id": "tdVBacf_-Xi-"
   },
   "outputs": [],
   "source": [
    "client = Client(\"EMSC\")\n",
    "evt_catalog = client.get_events(starttime=obs_start_time, endtime=obs_end_time, \n",
    "                       latitude=station[0][0].latitude, longitude=station[0][0].longitude, maxradius=obs_radius, minmagnitude=obs_min_magnitude)"
   ]
  },
  {
   "cell_type": "markdown",
   "metadata": {},
   "source": [
    "### Put events into a list and sort them with respect to time. "
   ]
  },
  {
   "cell_type": "code",
   "execution_count": 6,
   "metadata": {
    "colab": {
     "base_uri": "https://localhost:8080/"
    },
    "id": "wL_T584rTRHc",
    "outputId": "960fe4b4-447e-48db-c091-341867187e50"
   },
   "outputs": [],
   "source": [
    "def sortingmeasure(event):\n",
    "    return event.origins[0].time\n",
    "\n",
    "evts = []\n",
    "for evt in evt_catalog:\n",
    "    evts.append(evt)\n",
    "    \n",
    "evts.sort(key=sortingmeasure, reverse=False)"
   ]
  },
  {
   "cell_type": "markdown",
   "metadata": {},
   "source": [
    "### Get streams related to the events in the catalog."
   ]
  },
  {
   "cell_type": "code",
   "execution_count": 7,
   "metadata": {
    "colab": {
     "base_uri": "https://localhost:8080/"
    },
    "id": "tH6bIHTK_9V4",
    "outputId": "a13caaf4-b0a7-4e6b-8ad7-e0dd4306d264"
   },
   "outputs": [
    {
     "name": "stdout",
     "output_type": "stream",
     "text": [
      "No data exception at 2020-07-06T03:45:28.900000Z\n"
     ]
    }
   ],
   "source": [
    "client=Client(\"KOERI\")\n",
    "streams = []\n",
    "\n",
    "for i in range(0, len(evts)):\n",
    "    real_tevt = evts[i].origins[0].time\n",
    "    \n",
    "    noexcept = True\n",
    "    st = obspy.core.Stream()\n",
    "    \n",
    "    try:\n",
    "        st = client.get_waveforms(\"KO\", obs_station, \"*\", \"*\", (real_tevt+obs_evt_wdw_start), (real_tevt+obs_evt_wdw_end))\n",
    "    except:\n",
    "        print(\"No data exception at \" + str(real_tevt))\n",
    "        noexcept = False\n",
    "        streams.append(None)\n",
    "        \n",
    "    if noexcept:\n",
    "        streams.append(st)"
   ]
  },
  {
   "cell_type": "markdown",
   "metadata": {},
   "source": [
    "### Preprocess streams; by merging, detrending, filtering and removing the station response."
   ]
  },
  {
   "cell_type": "code",
   "execution_count": 8,
   "metadata": {
    "id": "tG6r0hnOo_Yd"
   },
   "outputs": [],
   "source": [
    "for st in streams:\n",
    "    if st != None:\n",
    "        st.merge(fill_value = 0)\n",
    "        st.detrend(type=\"linear\")\n",
    "        st.filter(\"bandpass\", freqmin=0.005, freqmax=25.0).remove_response(inventory=inv)"
   ]
  },
  {
   "cell_type": "markdown",
   "metadata": {},
   "source": [
    "### Distance and weight calculation for different imaginary stations."
   ]
  },
  {
   "cell_type": "code",
   "execution_count": 9,
   "metadata": {},
   "outputs": [],
   "source": [
    "import math\n",
    "\n",
    "def distance(lat1, long1, ele1, lat2, long2, ele2):\n",
    "    lat1 = lat1 * math.pi/180.0\n",
    "    lat2 = lat2 * math.pi/180.0\n",
    "    long1 = long1 * math.pi/180.0\n",
    "    long2 = long2 * math.pi/180.0\n",
    "    \n",
    "    x1 = (r_earth + ele1) * math.cos(lat1) * math.cos(long1)\n",
    "    y1 = (r_earth + ele1) * math.cos(lat1) * math.sin(long1)\n",
    "    z1 = (r_earth + ele1) * math.sin(lat1)\n",
    "    x2 = (r_earth + ele2) * math.cos(lat2) * math.cos(long2)\n",
    "    y2 = (r_earth + ele2) * math.cos(lat2) * math.sin(long2)\n",
    "    z2 = (r_earth + ele2) * math.sin(lat2)\n",
    "    \n",
    "    return (((x1-x2)**2 + (y1-y2)**2 + (z1-z2)**2)**0.5)\n",
    "\n",
    "def weigth(lat_diff, long_diff, event_lat, event_long, event_depth):\n",
    "    coord = inv.get_coordinates(\"KO.\" + obs_station + \"..HHN\")\n",
    "    dbase2event = distance(coord['latitude'], coord['longitude'], coord['elevation'], event_lat, \n",
    "                           event_long, -event_depth)\n",
    "    dsta2event = distance(coord['latitude']+lat_diff, coord['longitude']+long_diff, coord['elevation'], event_lat, \n",
    "                           event_long, -event_depth)\n",
    "    \n",
    "    return ((dbase2event/dsta2event)**2)"
   ]
  },
  {
   "cell_type": "markdown",
   "metadata": {},
   "source": [
    "### Create vectors for different channels by merging the event data."
   ]
  },
  {
   "cell_type": "code",
   "execution_count": 10,
   "metadata": {
    "id": "qszniwhlkXzf"
   },
   "outputs": [],
   "source": [
    "import numpy as np\n",
    "from math import floor as flr\n",
    "from copy import deepcopy\n",
    "\n",
    "audio_vector = np.zeros(exhibition_duration_in_secs * output_sampling_freq)\n",
    "lamp_a_vector = np.zeros(exhibition_duration_in_secs * output_sampling_freq)\n",
    "lamp_b_vector = np.zeros(exhibition_duration_in_secs * output_sampling_freq)\n",
    "lamp_c_vector = np.zeros(exhibition_duration_in_secs * output_sampling_freq)\n",
    "lamp_d_vector = np.zeros(exhibition_duration_in_secs * output_sampling_freq)\n",
    "lamp_e_vector = np.zeros(exhibition_duration_in_secs * output_sampling_freq)\n",
    "lamp_f_vector = np.zeros(exhibition_duration_in_secs * output_sampling_freq)\n",
    "vibration_vector = np.zeros(exhibition_duration_in_secs * output_sampling_freq)\n",
    "\n",
    "for i in range(0, len(evts)):\n",
    "    st = streams[i]\n",
    "    \n",
    "    if (st == None):\n",
    "        continue\n",
    "        \n",
    "    cumulative_data = np.zeros(len(st.select(component=obs_components[0])[0].data))\n",
    "    \n",
    "    for __component in obs_components:\n",
    "        tr_data = deepcopy(st.select(component=__component)[0].data)\n",
    "        \n",
    "        if len(cumulative_data) > len(tr_data):\n",
    "            tr_data.resize(cumulative_data.shape)\n",
    "        elif len(cumulative_data) < len(tr_data):\n",
    "            cumulative_data.resize(tr_data.shape)\n",
    "        \n",
    "        cumulative_data = cumulative_data + tr_data\n",
    "        \n",
    "    event_vector = np.zeros(exhibition_duration_in_secs * output_sampling_freq)\n",
    "    start_idx = flr(exhibition_duration_in_secs * audio_sampling_freq * ((st[0].meta.starttime.timestamp - obs_start_time.timestamp) / (obs_end_time.timestamp - obs_start_time.timestamp)))\n",
    "    event_vector[start_idx:start_idx+len(cumulative_data)] = cumulative_data \n",
    "    \n",
    "    event_lat = evts[i].origins[0].latitude\n",
    "    event_long = evts[i].origins[0].longitude\n",
    "    event_depth = evts[i].origins[0].depth\n",
    "    \n",
    "    lamp_a_vector = lamp_a_vector + event_vector * weigth(station_a_lat_diff, station_a_long_diff, event_lat, event_long, event_depth)\n",
    "    lamp_b_vector = lamp_b_vector + event_vector * weigth(station_b_lat_diff, station_b_long_diff, event_lat, event_long, event_depth)\n",
    "    lamp_c_vector = lamp_c_vector + event_vector * weigth(station_c_lat_diff, station_c_long_diff, event_lat, event_long, event_depth)\n",
    "    lamp_d_vector = lamp_d_vector + event_vector * weigth(station_d_lat_diff, station_d_long_diff, event_lat, event_long, event_depth)\n",
    "    lamp_e_vector = lamp_e_vector + event_vector * weigth(station_e_lat_diff, station_e_long_diff, event_lat, event_long, event_depth)\n",
    "    lamp_f_vector = lamp_f_vector + event_vector * weigth(station_f_lat_diff, station_f_long_diff, event_lat, event_long, event_depth)\n",
    "    \n",
    "    vibration_vector = vibration_vector + event_vector\n",
    "    audio_vector = audio_vector + event_vector"
   ]
  },
  {
   "cell_type": "markdown",
   "metadata": {},
   "source": [
    "### Precondition noise data."
   ]
  },
  {
   "cell_type": "code",
   "execution_count": 11,
   "metadata": {},
   "outputs": [
    {
     "data": {
      "text/plain": [
       "1 Trace(s) in Stream:\n",
       "KO.CTKS..HHN | 2020-06-01T00:00:00.000000Z - 2020-06-01T20:28:48.000000Z | 100.0 Hz, 7372801 samples"
      ]
     },
     "execution_count": 11,
     "metadata": {},
     "output_type": "execute_result"
    }
   ],
   "source": [
    "obs_noise_wdw = exhibition_duration_in_secs * audio_sampling_freq / station_sampling_freq\n",
    "\n",
    "noise_st = client.get_waveforms(\"KO\", obs_station, \"*\", \"*\", obs_noise_start_time, (obs_noise_start_time+obs_noise_wdw))\n",
    "noise_st.merge(fill_value = 0)\n",
    "noise_st.detrend(type=\"linear\")\n",
    "noise_st.filter(\"bandpass\", freqmin=0.005, freqmax=25.0).remove_response(inventory=inv)"
   ]
  },
  {
   "cell_type": "markdown",
   "metadata": {},
   "source": [
    "### Create sample noise vector."
   ]
  },
  {
   "cell_type": "code",
   "execution_count": 12,
   "metadata": {},
   "outputs": [],
   "source": [
    "cumulative_data = np.zeros(len(noise_st.select(component=obs_components[0])[0].data))\n",
    "    \n",
    "for __component in obs_components:\n",
    "    tr_data = deepcopy(noise_st.select(component=__component)[0].data)\n",
    "        \n",
    "    if len(cumulative_data) > len(tr_data):\n",
    "        tr_data.resize(cumulative_data.shape)\n",
    "    elif len(cumulative_data) < len(tr_data):\n",
    "        cumulative_data.resize(tr_data.shape)\n",
    "        \n",
    "    cumulative_data = cumulative_data + tr_data\n",
    "        \n",
    "noise_sample_vector = deepcopy(cumulative_data)"
   ]
  },
  {
   "cell_type": "markdown",
   "metadata": {},
   "source": [
    "### Gets a sample noise vector; and creates a randomized one with the same frequency spectrum."
   ]
  },
  {
   "cell_type": "code",
   "execution_count": 13,
   "metadata": {},
   "outputs": [],
   "source": [
    "def get_noise(sample_noise_vector):\n",
    "    N = len(sample_noise_vector)\n",
    "    N = N - (N%2)\n",
    "    fftdata = np.fft.rfft(sample_noise_vector[0:N])\n",
    "    N_2 = N >> 1\n",
    "    phase_noise = 2 * np.pi * np.random.rand(N_2)\n",
    "    fftdata[1:(N_2+1)] = fftdata[1:(N_2+1)] * np.exp(1j * phase_noise)\n",
    "    return np.real(np.fft.irfft(fftdata))"
   ]
  },
  {
   "cell_type": "markdown",
   "metadata": {},
   "source": [
    "### Create ready-to-run data. Add noise, decimate lower sampling channels and pass through a saturation function(tanh)."
   ]
  },
  {
   "cell_type": "code",
   "execution_count": 14,
   "metadata": {
    "id": "rcgPqz7YrJ1H"
   },
   "outputs": [],
   "source": [
    "from scipy.signal import decimate\n",
    "\n",
    "nsv = noise_sample_vector\n",
    "lnc = lighting_noise_coeff\n",
    "\n",
    "# Add noise to audio.\n",
    "audio_vector = audio_vector + get_noise(nsv) * audio_noise_coeff\n",
    "\n",
    "# Add noise to different lamp vectors and get the decimated vector.\n",
    "lamp_a_vector = np.clip(decimate(decimate(np.absolute(lamp_a_vector + get_noise(nsv) * lnc), 8), 8), 0, None)\n",
    "lamp_b_vector = np.clip(decimate(decimate(np.absolute(lamp_b_vector + get_noise(nsv) * lnc), 8), 8), 0, None)\n",
    "lamp_c_vector = np.clip(decimate(decimate(np.absolute(lamp_c_vector + get_noise(nsv) * lnc), 8), 8), 0, None)\n",
    "lamp_d_vector = np.clip(decimate(decimate(np.absolute(lamp_d_vector + get_noise(nsv) * lnc), 8), 8), 0, None)\n",
    "lamp_e_vector = np.clip(decimate(decimate(np.absolute(lamp_e_vector + get_noise(nsv) * lnc), 8), 8), 0, None)\n",
    "lamp_f_vector = np.clip(decimate(decimate(np.absolute(lamp_f_vector + get_noise(nsv) * lnc), 8), 8), 0, None)\n",
    "vibration_vector = np.clip(decimate(decimate(decimate(decimate(np.absolute(vibration_vector), 8), 8), 8), 8), 0, None)\n",
    "\n",
    "norm = max([np.amax(lamp_a_vector), np.amax(lamp_b_vector), np.amax(lamp_c_vector),\n",
    "         np.amax(lamp_d_vector), np.amax(lamp_e_vector), np.amax(lamp_f_vector)])\n",
    "\n",
    "# Post vectors as to be represented by the output units.\n",
    "audio_vector_out = np.tanh(audio_saturation_coeff * audio_vector / np.amax(np.absolute(audio_vector)))\n",
    "lamp_a_vector_out = np.tanh(lighting_saturation_coeff * lamp_a_vector / norm)\n",
    "lamp_b_vector_out = np.tanh(lighting_saturation_coeff * lamp_b_vector / norm)\n",
    "lamp_c_vector_out = np.tanh(lighting_saturation_coeff * lamp_c_vector / norm)\n",
    "lamp_d_vector_out = np.tanh(lighting_saturation_coeff * lamp_d_vector / norm)\n",
    "lamp_e_vector_out = np.tanh(lighting_saturation_coeff * lamp_e_vector / norm)\n",
    "lamp_f_vector_out = np.tanh(lighting_saturation_coeff * lamp_f_vector / norm)\n",
    "vibration_vector_out = np.int_(np.tanh(vibration_saturation_coeff * vibration_vector / \n",
    "                               np.amax(np.absolute(vibration_vector))) > vibration_on_threshold)"
   ]
  },
  {
   "cell_type": "markdown",
   "metadata": {},
   "source": [
    "### Plot lighting vectors."
   ]
  },
  {
   "cell_type": "code",
   "execution_count": 15,
   "metadata": {},
   "outputs": [
    {
     "data": {
      "image/png": "[encoded data removed]",
      "text/plain": [
       "<Figure size 640x480 with 6 Axes>"
      ]
     },
     "metadata": {},
     "output_type": "display_data"
    }
   ],
   "source": [
    "import matplotlib.pyplot as plt\n",
    "\n",
    "fig, axs = plt.subplots(2, 3)\n",
    "axs[0, 0].plot(lamp_a_vector_out)\n",
    "axs[0, 0].set_title('Lamp A vector')\n",
    "axs[0, 1].plot(lamp_b_vector_out)\n",
    "axs[0, 1].set_title('Lamp B vector')\n",
    "axs[0, 2].plot(lamp_c_vector_out)\n",
    "axs[0, 2].set_title('Lamp C vector')\n",
    "axs[1, 2].plot(lamp_d_vector_out)\n",
    "axs[1, 2].set_title('Lamp D vector')\n",
    "axs[1, 1].plot(lamp_e_vector_out)\n",
    "axs[1, 1].set_title('Lamp E vector')\n",
    "axs[1, 0].plot(lamp_f_vector_out)\n",
    "axs[1, 0].set_title('Lamp F vector')\n",
    "\n",
    "plt.show()"
   ]
  },
  {
   "cell_type": "markdown",
   "metadata": {},
   "source": [
    "### Plot audio vector."
   ]
  },
  {
   "cell_type": "code",
   "execution_count": 16,
   "metadata": {},
   "outputs": [
    {
     "data": {
      "image/png": "[encoded data removed]",
      "text/plain": [
       "<Figure size 640x480 with 1 Axes>"
      ]
     },
     "metadata": {},
     "output_type": "display_data"
    }
   ],
   "source": [
    "plt.plot(audio_vector_out)\n",
    "plt.show()"
   ]
  },
  {
   "cell_type": "markdown",
   "metadata": {},
   "source": [
    "### Write power binary file."
   ]
  },
  {
   "cell_type": "code",
   "execution_count": 17,
   "metadata": {},
   "outputs": [],
   "source": [
    "dlen = exhibition_duration_in_secs * lighting_sampling_freq\n",
    "\n",
    "vibration_matrix = np.repeat(vibration_vector_out.reshape((len(vibration_vector_out), 1)), 64, axis=1)\n",
    "upsampled_vibration_vector=vibration_matrix.reshape((len(vibration_vector_out) * 64))\n",
    "\n",
    "power_channels = 255 * np.array([lamp_a_vector_out, lamp_b_vector_out, lamp_c_vector_out, lamp_d_vector_out, lamp_e_vector_out, lamp_f_vector_out, upsampled_vibration_vector, np.zeros(dlen)])\n",
    "power_channels = power_channels.transpose()\n",
    "\n",
    "f2 = open(\"./power.bin\", \"w\")\n",
    "power_channels.astype('u1').tofile(f2, sep=\"\")\n",
    "f2.close()"
   ]
  },
  {
   "cell_type": "code",
   "execution_count": 18,
   "metadata": {},
   "outputs": [
    {
     "data": {
      "image/png": "[encoded data removed]",
      "text/plain": [
       "<Figure size 640x480 with 1 Axes>"
      ]
     },
     "metadata": {},
     "output_type": "display_data"
    }
   ],
   "source": [
    "plt.plot(upsampled_vibration_vector)\n",
    "plt.show()"
   ]
  },
  {
   "cell_type": "markdown",
   "metadata": {},
   "source": [
    "### Write audio binary file."
   ]
  },
  {
   "cell_type": "code",
   "execution_count": 19,
   "metadata": {},
   "outputs": [],
   "source": [
    "f1 = open(\"audio.bin\", \"w\")\n",
    "audio = (0.999 * audio_vector_out + 1.0) * 2047\n",
    "audio.astype('<u2').tofile(f1, sep=\"\")\n",
    "f1.close()"
   ]
  },
  {
   "cell_type": "markdown",
   "metadata": {},
   "source": [
    "### Write wav file."
   ]
  },
  {
   "cell_type": "code",
   "execution_count": 20,
   "metadata": {},
   "outputs": [],
   "source": [
    "from scipy.io.wavfile import write\n",
    "scaled = np.int16(audio_vector_out * 32727)\n",
    "write('./audio.wav', audio_sampling_freq, scaled)"
   ]
  }
 ],
 "metadata": {
  "colab": {
   "collapsed_sections": [],
   "name": "get_streams.ipynb",
   "provenance": []
  },
  "kernelspec": {
   "display_name": "Python 3",
   "language": "python",
   "name": "python3"
  },
  "language_info": {
   "codemirror_mode": {
    "name": "ipython",
    "version": 3
   },
   "file_extension": ".py",
   "mimetype": "text/x-python",
   "name": "python",
   "nbconvert_exporter": "python",
   "pygments_lexer": "ipython3",
   "version": "3.8.8"
  }
 },
 "nbformat": 4,
 "nbformat_minor": 1
}
